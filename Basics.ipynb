{
 "cells": [
  {
   "cell_type": "markdown",
   "metadata": {},
   "source": [
    "# Guided Project: Answering Business Questions Using SQL"
   ]
  },
  {
   "cell_type": "code",
   "execution_count": null,
   "metadata": {
    "collapsed": true
   },
   "outputs": [],
   "source": []
  },
  {
   "cell_type": "markdown",
   "metadata": {},
   "source": [
    "We'll use the following code to connect our Jupyter Notebook to our database file:"
   ]
  },
  {
   "cell_type": "code",
   "execution_count": 7,
   "metadata": {
    "collapsed": false
   },
   "outputs": [
    {
     "data": {
      "text/plain": [
       "'Connected: None@chinook.db'"
      ]
     },
     "execution_count": 7,
     "metadata": {},
     "output_type": "execute_result"
    }
   ],
   "source": [
    "%%capture\n",
    "%load_ext sql\n",
    "%sql sqlite:///chinook.db"
   ]
  },
  {
   "cell_type": "markdown",
   "metadata": {},
   "source": [
    "## Data overview\n",
    "\n",
    "Below query shows information about the tables and view of the database. We will establish a schema which will help us to to join the different tables."
   ]
  },
  {
   "cell_type": "code",
   "execution_count": 8,
   "metadata": {
    "collapsed": false
   },
   "outputs": [
    {
     "name": "stdout",
     "output_type": "stream",
     "text": [
      "Done.\n"
     ]
    },
    {
     "data": {
      "text/html": [
       "<table>\n",
       "    <tr>\n",
       "        <th>name</th>\n",
       "        <th>type</th>\n",
       "    </tr>\n",
       "    <tr>\n",
       "        <td>album</td>\n",
       "        <td>table</td>\n",
       "    </tr>\n",
       "    <tr>\n",
       "        <td>artist</td>\n",
       "        <td>table</td>\n",
       "    </tr>\n",
       "    <tr>\n",
       "        <td>customer</td>\n",
       "        <td>table</td>\n",
       "    </tr>\n",
       "    <tr>\n",
       "        <td>employee</td>\n",
       "        <td>table</td>\n",
       "    </tr>\n",
       "    <tr>\n",
       "        <td>genre</td>\n",
       "        <td>table</td>\n",
       "    </tr>\n",
       "    <tr>\n",
       "        <td>invoice</td>\n",
       "        <td>table</td>\n",
       "    </tr>\n",
       "    <tr>\n",
       "        <td>invoice_line</td>\n",
       "        <td>table</td>\n",
       "    </tr>\n",
       "    <tr>\n",
       "        <td>media_type</td>\n",
       "        <td>table</td>\n",
       "    </tr>\n",
       "    <tr>\n",
       "        <td>playlist</td>\n",
       "        <td>table</td>\n",
       "    </tr>\n",
       "    <tr>\n",
       "        <td>playlist_track</td>\n",
       "        <td>table</td>\n",
       "    </tr>\n",
       "    <tr>\n",
       "        <td>track</td>\n",
       "        <td>table</td>\n",
       "    </tr>\n",
       "</table>"
      ],
      "text/plain": [
       "[('album', 'table'),\n",
       " ('artist', 'table'),\n",
       " ('customer', 'table'),\n",
       " ('employee', 'table'),\n",
       " ('genre', 'table'),\n",
       " ('invoice', 'table'),\n",
       " ('invoice_line', 'table'),\n",
       " ('media_type', 'table'),\n",
       " ('playlist', 'table'),\n",
       " ('playlist_track', 'table'),\n",
       " ('track', 'table')]"
      ]
     },
     "execution_count": 8,
     "metadata": {},
     "output_type": "execute_result"
    }
   ],
   "source": [
    "%%sql\n",
    "\n",
    "SELECT \n",
    "      name, \n",
    "      type\n",
    "FROM sqlite_master\n",
    "WHERE type IN (\"table\", \"view\")"
   ]
  },
  {
   "cell_type": "markdown",
   "metadata": {},
   "source": [
    "## Selecting New Albums for Our Online Store\n",
    "\n",
    "The Chinook record store has signed a new record label and we have been asked to select the first three albums that will be added to the store, from a list of four. \n",
    "All four albums are by artists that don't have any tracks in the store right now - we have the artist names, and the genre of music they produce: Hip-Hop, Punk, Pop, Blues.\n",
    "\n",
    "Thus, with the below queries we will try and answer, which are the most popular genres that sell in the USA. We will start by joining multiple tables together, thus we will have the necessary columns to calculate."
   ]
  },
  {
   "cell_type": "code",
   "execution_count": 9,
   "metadata": {
    "collapsed": false
   },
   "outputs": [
    {
     "name": "stdout",
     "output_type": "stream",
     "text": [
      "Done.\n"
     ]
    },
    {
     "data": {
      "text/html": [
       "<table>\n",
       "    <tr>\n",
       "        <th>genre</th>\n",
       "        <th>tracks_sold</th>\n",
       "        <th>country</th>\n",
       "        <th>percentage_tracks_sold</th>\n",
       "    </tr>\n",
       "    <tr>\n",
       "        <td>Rock</td>\n",
       "        <td>561</td>\n",
       "        <td>USA</td>\n",
       "        <td>53.37773549000951</td>\n",
       "    </tr>\n",
       "    <tr>\n",
       "        <td>Alternative &amp; Punk</td>\n",
       "        <td>130</td>\n",
       "        <td>USA</td>\n",
       "        <td>12.369172216936251</td>\n",
       "    </tr>\n",
       "    <tr>\n",
       "        <td>Metal</td>\n",
       "        <td>124</td>\n",
       "        <td>USA</td>\n",
       "        <td>11.798287345385347</td>\n",
       "    </tr>\n",
       "    <tr>\n",
       "        <td>R&amp;B/Soul</td>\n",
       "        <td>53</td>\n",
       "        <td>USA</td>\n",
       "        <td>5.042816365366318</td>\n",
       "    </tr>\n",
       "    <tr>\n",
       "        <td>Blues</td>\n",
       "        <td>36</td>\n",
       "        <td>USA</td>\n",
       "        <td>3.425309229305423</td>\n",
       "    </tr>\n",
       "    <tr>\n",
       "        <td>Alternative</td>\n",
       "        <td>35</td>\n",
       "        <td>USA</td>\n",
       "        <td>3.3301617507136063</td>\n",
       "    </tr>\n",
       "    <tr>\n",
       "        <td>Latin</td>\n",
       "        <td>22</td>\n",
       "        <td>USA</td>\n",
       "        <td>2.093244529019981</td>\n",
       "    </tr>\n",
       "    <tr>\n",
       "        <td>Pop</td>\n",
       "        <td>22</td>\n",
       "        <td>USA</td>\n",
       "        <td>2.093244529019981</td>\n",
       "    </tr>\n",
       "    <tr>\n",
       "        <td>Hip Hop/Rap</td>\n",
       "        <td>20</td>\n",
       "        <td>USA</td>\n",
       "        <td>1.9029495718363463</td>\n",
       "    </tr>\n",
       "    <tr>\n",
       "        <td>Jazz</td>\n",
       "        <td>14</td>\n",
       "        <td>USA</td>\n",
       "        <td>1.3320647002854424</td>\n",
       "    </tr>\n",
       "    <tr>\n",
       "        <td>Easy Listening</td>\n",
       "        <td>13</td>\n",
       "        <td>USA</td>\n",
       "        <td>1.236917221693625</td>\n",
       "    </tr>\n",
       "    <tr>\n",
       "        <td>Reggae</td>\n",
       "        <td>6</td>\n",
       "        <td>USA</td>\n",
       "        <td>0.570884871550904</td>\n",
       "    </tr>\n",
       "    <tr>\n",
       "        <td>Electronica/Dance</td>\n",
       "        <td>5</td>\n",
       "        <td>USA</td>\n",
       "        <td>0.47573739295908657</td>\n",
       "    </tr>\n",
       "    <tr>\n",
       "        <td>Classical</td>\n",
       "        <td>4</td>\n",
       "        <td>USA</td>\n",
       "        <td>0.3805899143672693</td>\n",
       "    </tr>\n",
       "    <tr>\n",
       "        <td>Heavy Metal</td>\n",
       "        <td>3</td>\n",
       "        <td>USA</td>\n",
       "        <td>0.285442435775452</td>\n",
       "    </tr>\n",
       "    <tr>\n",
       "        <td>Soundtrack</td>\n",
       "        <td>2</td>\n",
       "        <td>USA</td>\n",
       "        <td>0.19029495718363465</td>\n",
       "    </tr>\n",
       "    <tr>\n",
       "        <td>TV Shows</td>\n",
       "        <td>1</td>\n",
       "        <td>USA</td>\n",
       "        <td>0.09514747859181732</td>\n",
       "    </tr>\n",
       "</table>"
      ],
      "text/plain": [
       "[('Rock', 561, 'USA', 53.37773549000951),\n",
       " ('Alternative & Punk', 130, 'USA', 12.369172216936251),\n",
       " ('Metal', 124, 'USA', 11.798287345385347),\n",
       " ('R&B/Soul', 53, 'USA', 5.042816365366318),\n",
       " ('Blues', 36, 'USA', 3.425309229305423),\n",
       " ('Alternative', 35, 'USA', 3.3301617507136063),\n",
       " ('Latin', 22, 'USA', 2.093244529019981),\n",
       " ('Pop', 22, 'USA', 2.093244529019981),\n",
       " ('Hip Hop/Rap', 20, 'USA', 1.9029495718363463),\n",
       " ('Jazz', 14, 'USA', 1.3320647002854424),\n",
       " ('Easy Listening', 13, 'USA', 1.236917221693625),\n",
       " ('Reggae', 6, 'USA', 0.570884871550904),\n",
       " ('Electronica/Dance', 5, 'USA', 0.47573739295908657),\n",
       " ('Classical', 4, 'USA', 0.3805899143672693),\n",
       " ('Heavy Metal', 3, 'USA', 0.285442435775452),\n",
       " ('Soundtrack', 2, 'USA', 0.19029495718363465),\n",
       " ('TV Shows', 1, 'USA', 0.09514747859181732)]"
      ]
     },
     "execution_count": 9,
     "metadata": {},
     "output_type": "execute_result"
    }
   ],
   "source": [
    "%%sql\n",
    "\n",
    "WITH \n",
    "    tracks_usa AS\n",
    "                (\n",
    "                 SELECT g.name AS genre, \n",
    "                 COUNT(il.quantity) AS tracks_sold, \n",
    "                 c.country\n",
    "                 FROM invoice_line AS il \n",
    "                 LEFT JOIN invoice AS i ON i.invoice_id = il.invoice_id\n",
    "                 LEFT JOIN track AS t ON t.track_id = il.track_id\n",
    "                 LEFT JOIN genre AS g ON g.genre_id = t.genre_id \n",
    "                 LEFT JOIN customer AS c ON c.customer_id = i.customer_id\n",
    "                 WHERE c.country = 'USA'\n",
    "                 GROUP BY t.genre_id\n",
    "                 ORDER BY 2 DESC\n",
    "                )\n",
    "SELECT *,\n",
    "CAST(tracks_sold AS FLOAT)  / (SELECT SUM(tracks_sold) FROM tracks_usa) * 100 AS percentage_tracks_sold\n",
    "FROM tracks_usa;"
   ]
  },
  {
   "cell_type": "markdown",
   "metadata": {
    "collapsed": true
   },
   "source": [
    "Based on the above table we can conclude that the three genres which are selling the most in USA are (in descending order):\n",
    "* Rock - 53% \n",
    "* Alternative & Punk - 12%\n",
    "* Metal - 11%\n",
    "\n",
    "We were offered four different artists in four type of genres - Hip-Hop, Punk, Pop, and Blues. Based on the online song sales, the least popular genre out of these four is Hip-Hop with only 1.9% sales in USA. Thus, we will include the artists who are in the remainder three genre categories because they sell much better. We will purchase:\n",
    "\n",
    "* Red Tone - Punk\n",
    "* Meteor and the Girls - Pop\n",
    "* Slim Jim Bites - Blues\n",
    "\n",
    "We should still consider adding more artists from the Rock genre as it accounts for just over a half of the total sales with 53%."
   ]
  },
  {
   "cell_type": "markdown",
   "metadata": {
    "collapsed": true
   },
   "source": [
    "## Analyzing Sales Support Agents Performance\n",
    "\n",
    "Each customer for the Chinook store gets assigned to a sales support agent within the company when they first make a purchase. We are going to analyze the customer purchases belonging to each employee to see if any sales support ort agent is performing better or worse than the others.\n"
   ]
  },
  {
   "cell_type": "code",
   "execution_count": 10,
   "metadata": {
    "collapsed": false
   },
   "outputs": [
    {
     "name": "stdout",
     "output_type": "stream",
     "text": [
      "Done.\n"
     ]
    },
    {
     "data": {
      "text/html": [
       "<table>\n",
       "    <tr>\n",
       "        <th>employee_name</th>\n",
       "        <th>title</th>\n",
       "        <th>hire_date</th>\n",
       "        <th>amount_total_sales</th>\n",
       "    </tr>\n",
       "    <tr>\n",
       "        <td>Jane Peacock</td>\n",
       "        <td>Sales Support Agent</td>\n",
       "        <td>2017-04-01 00:00:00</td>\n",
       "        <td>1731.5100000000039</td>\n",
       "    </tr>\n",
       "    <tr>\n",
       "        <td>Margaret Park</td>\n",
       "        <td>Sales Support Agent</td>\n",
       "        <td>2017-05-03 00:00:00</td>\n",
       "        <td>1584.0000000000034</td>\n",
       "    </tr>\n",
       "    <tr>\n",
       "        <td>Steve Johnson</td>\n",
       "        <td>Sales Support Agent</td>\n",
       "        <td>2017-10-17 00:00:00</td>\n",
       "        <td>1393.920000000002</td>\n",
       "    </tr>\n",
       "</table>"
      ],
      "text/plain": [
       "[('Jane Peacock', 'Sales Support Agent', '2017-04-01 00:00:00', 1731.5100000000039),\n",
       " ('Margaret Park', 'Sales Support Agent', '2017-05-03 00:00:00', 1584.0000000000034),\n",
       " ('Steve Johnson', 'Sales Support Agent', '2017-10-17 00:00:00', 1393.920000000002)]"
      ]
     },
     "execution_count": 10,
     "metadata": {},
     "output_type": "execute_result"
    }
   ],
   "source": [
    "%%sql\n",
    "\n",
    "SELECT e.first_name ||\" \"|| e.last_name AS employee_name,\n",
    "e.title, \n",
    "e.hire_date,\n",
    "SUM(i.total) AS amount_total_sales\n",
    "FROM employee AS e\n",
    "INNER JOIN customer AS c ON c.support_rep_id = e.employee_id\n",
    "INNER JOIN invoice AS i ON i.customer_id = c.customer_id\n",
    "GROUP BY employee_name;"
   ]
  },
  {
   "cell_type": "markdown",
   "metadata": {
    "collapsed": true
   },
   "source": [
    "As seen from the above table, there is about 100 - 150$ difference in the total number of sales between the three employees.\n",
    "Jane is on top with the most sales, second is Margaret, and lastly, we have Steve. This slight difference in sales can be explained by the different hire date of the three employees. As expected, Jane was hired first, and a month after that Margaret was hired, thus, the difference is not that big. Five months later they have hired Steve, who is last in terms of sales. \n",
    "Overall, there is a small difference between their sales performance."
   ]
  },
  {
   "cell_type": "markdown",
   "metadata": {},
   "source": [
    "## Analyzing Sales by Country\n",
    "\n",
    "We are going to analyze sales data for customers from each country."
   ]
  },
  {
   "cell_type": "code",
   "execution_count": 11,
   "metadata": {
    "collapsed": false
   },
   "outputs": [
    {
     "name": "stdout",
     "output_type": "stream",
     "text": [
      "Done.\n"
     ]
    },
    {
     "data": {
      "text/html": [
       "<table>\n",
       "    <tr>\n",
       "        <th>country</th>\n",
       "        <th>customers</th>\n",
       "        <th>total_sales</th>\n",
       "        <th>average_order</th>\n",
       "        <th>customer_lifetime_value</th>\n",
       "    </tr>\n",
       "    <tr>\n",
       "        <td>USA</td>\n",
       "        <td>13</td>\n",
       "        <td>1040.490000000008</td>\n",
       "        <td>7.942671755725252</td>\n",
       "        <td>80.03769230769292</td>\n",
       "    </tr>\n",
       "    <tr>\n",
       "        <td>Canada</td>\n",
       "        <td>8</td>\n",
       "        <td>535.5900000000034</td>\n",
       "        <td>7.047236842105309</td>\n",
       "        <td>66.94875000000043</td>\n",
       "    </tr>\n",
       "    <tr>\n",
       "        <td>Brazil</td>\n",
       "        <td>5</td>\n",
       "        <td>427.68000000000245</td>\n",
       "        <td>7.011147540983647</td>\n",
       "        <td>85.53600000000048</td>\n",
       "    </tr>\n",
       "    <tr>\n",
       "        <td>France</td>\n",
       "        <td>5</td>\n",
       "        <td>389.0700000000021</td>\n",
       "        <td>7.781400000000042</td>\n",
       "        <td>77.81400000000042</td>\n",
       "    </tr>\n",
       "    <tr>\n",
       "        <td>Germany</td>\n",
       "        <td>4</td>\n",
       "        <td>334.6200000000016</td>\n",
       "        <td>8.161463414634186</td>\n",
       "        <td>83.6550000000004</td>\n",
       "    </tr>\n",
       "    <tr>\n",
       "        <td>Czech Republic</td>\n",
       "        <td>2</td>\n",
       "        <td>273.24000000000103</td>\n",
       "        <td>9.108000000000034</td>\n",
       "        <td>136.62000000000052</td>\n",
       "    </tr>\n",
       "    <tr>\n",
       "        <td>United Kingdom</td>\n",
       "        <td>3</td>\n",
       "        <td>245.52000000000078</td>\n",
       "        <td>8.768571428571457</td>\n",
       "        <td>81.84000000000026</td>\n",
       "    </tr>\n",
       "    <tr>\n",
       "        <td>Portugal</td>\n",
       "        <td>2</td>\n",
       "        <td>185.13000000000022</td>\n",
       "        <td>6.3837931034482835</td>\n",
       "        <td>92.56500000000011</td>\n",
       "    </tr>\n",
       "    <tr>\n",
       "        <td>India</td>\n",
       "        <td>2</td>\n",
       "        <td>183.1500000000002</td>\n",
       "        <td>8.72142857142858</td>\n",
       "        <td>91.5750000000001</td>\n",
       "    </tr>\n",
       "    <tr>\n",
       "        <td>Other</td>\n",
       "        <td>15</td>\n",
       "        <td>1094.9400000000085</td>\n",
       "        <td>7.448571428571486</td>\n",
       "        <td>72.99600000000056</td>\n",
       "    </tr>\n",
       "</table>"
      ],
      "text/plain": [
       "[('USA', 13, 1040.490000000008, 7.942671755725252, 80.03769230769292),\n",
       " ('Canada', 8, 535.5900000000034, 7.047236842105309, 66.94875000000043),\n",
       " ('Brazil', 5, 427.68000000000245, 7.011147540983647, 85.53600000000048),\n",
       " ('France', 5, 389.0700000000021, 7.781400000000042, 77.81400000000042),\n",
       " ('Germany', 4, 334.6200000000016, 8.161463414634186, 83.6550000000004),\n",
       " ('Czech Republic', 2, 273.24000000000103, 9.108000000000034, 136.62000000000052),\n",
       " ('United Kingdom', 3, 245.52000000000078, 8.768571428571457, 81.84000000000026),\n",
       " ('Portugal', 2, 185.13000000000022, 6.3837931034482835, 92.56500000000011),\n",
       " ('India', 2, 183.1500000000002, 8.72142857142858, 91.5750000000001),\n",
       " ('Other', 15, 1094.9400000000085, 7.448571428571486, 72.99600000000056)]"
      ]
     },
     "execution_count": 11,
     "metadata": {},
     "output_type": "execute_result"
    }
   ],
   "source": [
    "%%sql \n",
    "\n",
    "WITH country_or_other AS\n",
    "    (\n",
    "     SELECT \n",
    "           CASE \n",
    "               WHEN (\n",
    "                     SELECT\n",
    "                           COUNT(*)\n",
    "                       FROM customer\n",
    "                      WHERE country = c.country\n",
    "                     ) = 1 THEN \"Other\"\n",
    "               ELSE c.country\n",
    "           END AS country,\n",
    "           c.customer_id,\n",
    "           il.*\n",
    "     FROM invoice_line AS il\n",
    "     INNER JOIN invoice AS i ON i.invoice_id = il.invoice_id\n",
    "     INNER JOIN customer AS c ON c.customer_id = i.customer_id      \n",
    "    )\n",
    "    \n",
    "SELECT \n",
    "      country,\n",
    "      customers,\n",
    "      total_sales,\n",
    "      average_order,\n",
    "      customer_lifetime_value\n",
    "FROM\n",
    "    (\n",
    "     SELECT \n",
    "           country,\n",
    "           COUNT(DISTINCT customer_id) AS customers,\n",
    "           SUM(unit_price) AS total_sales,\n",
    "           SUM(unit_price) / COUNT(DISTINCT customer_id) AS customer_lifetime_value,\n",
    "           SUM(unit_price) / COUNT(DISTINCT invoice_id) AS average_order,\n",
    "           CASE\n",
    "               WHEN country = \"Other\" THEN 1\n",
    "               ELSE 0\n",
    "           END AS sort\n",
    "       FROM country_or_other\n",
    "       GROUP BY country\n",
    "       ORDER BY sort ASC, total_sales DESC\n",
    "    );"
   ]
  },
  {
   "cell_type": "markdown",
   "metadata": {
    "collapsed": true
   },
   "source": [
    "We have calculated the data for each country based on the:\n",
    "\n",
    "* total number of customers\n",
    "* total value of sales\n",
    "* average value of sales per customer\n",
    "* average order value\n",
    "\n",
    "As there are number of countries in our database with only one customer, we have grouped these countries in \"Other\" category.\n",
    "\n",
    "Based on the data there seems to be an opportunity in the following countries:\n",
    "\n",
    "* Czech Republic\n",
    "* United Kingdom\n",
    "* India\n",
    "\n",
    "Our data sample for all countries is low, and this should be taken into consideration. When deciding on how much money to spend on new marketing campaigns. Because our data does not give us a detailed picture on which country to advertise more it is better to do small marketing campaigns in all these countries. And also, to collect new data and to ensure these trends hold true with the new customers"
   ]
  },
  {
   "cell_type": "markdown",
   "metadata": {
    "collapsed": true
   },
   "source": [
    "## Albums vs Individual Tracks\n",
    "\n",
    "The Chinook store is setup in a way that allows customer to make purchases in one of the two ways:\n",
    "\n",
    "* purchase a whole album\n",
    "\n",
    "* purchase a collection of one or more individual tracks.\n",
    "\n",
    "The store does not let customers purchase a whole album, and then add individual tracks to that same purchase (unless they do that by choosing each track manually). When customers purchase albums they are charged the same price as if they had purchased each of those tracks separately.\n",
    "\n",
    "Management are currently considering changing their purchasing strategy to save money. The strategy they are considering is to purchase only the most popular tracks from each album from record companies, instead of purchasing every track from an album.\n",
    "\n",
    "We will try to find out what percentage of purchases are individual tracks vs whole albums, so that management can use this data to understand the effect this decision might have on overall revenue."
   ]
  },
  {
   "cell_type": "code",
   "execution_count": 12,
   "metadata": {
    "collapsed": false
   },
   "outputs": [
    {
     "name": "stdout",
     "output_type": "stream",
     "text": [
      "Done.\n"
     ]
    },
    {
     "data": {
      "text/html": [
       "<table>\n",
       "    <tr>\n",
       "        <th>album_purchase</th>\n",
       "        <th>number_of_invoices</th>\n",
       "        <th>percent</th>\n",
       "    </tr>\n",
       "    <tr>\n",
       "        <td>no</td>\n",
       "        <td>500</td>\n",
       "        <td>0.8143322475570033</td>\n",
       "    </tr>\n",
       "    <tr>\n",
       "        <td>yes</td>\n",
       "        <td>114</td>\n",
       "        <td>0.18566775244299674</td>\n",
       "    </tr>\n",
       "</table>"
      ],
      "text/plain": [
       "[('no', 500, 0.8143322475570033), ('yes', 114, 0.18566775244299674)]"
      ]
     },
     "execution_count": 12,
     "metadata": {},
     "output_type": "execute_result"
    }
   ],
   "source": [
    "%%sql\n",
    "\n",
    "WITH invoice_first_track AS\n",
    "    (SELECT \n",
    "           il.invoice_id,\n",
    "           MIN(il.track_id) AS first_track_id\n",
    "     FROM invoice_line AS il\n",
    "     GROUP BY 1\n",
    "    )\n",
    "\n",
    "SELECT \n",
    "      album_purchase,\n",
    "      COUNT(invoice_id) AS number_of_invoices,\n",
    "      CAST(COUNT(invoice_id) AS FLOAT) / (SELECT COUNT(*) FROM invoice) AS percent\n",
    "FROM (\n",
    "      SELECT \n",
    "            ifs.*,\n",
    "            CASE \n",
    "                WHEN\n",
    "                    (\n",
    "                     SELECT t.track_id FROM track AS t\n",
    "                      WHERE t.album_id = (\n",
    "                                          SELECT t2.album_id FROM track AS t2\n",
    "                                           WHERE t2.track_id = ifs.first_track_id\n",
    "                     \n",
    "                                         )\n",
    "                     EXCEPT\n",
    "                     \n",
    "                     SELECT il2.track_id FROM invoice_line AS il2\n",
    "                      WHERE il2.invoice_id = ifs.invoice_id                        \n",
    "                    ) IS NULL\n",
    "                 AND\n",
    "                    (\n",
    "                    SELECT il2.track_id FROM invoice_line AS il2\n",
    "                     WHERE il2.invoice_id = ifs.invoice_id\n",
    "                    \n",
    "                    EXCEPT\n",
    "                    \n",
    "                    SELECT t.track_id FROM track AS t\n",
    "                     WHERE t.album_id = (\n",
    "                                        SELECT t2.album_id FROM track AS t2\n",
    "                                         WHERE t2.track_id = ifs.first_track_id\n",
    "                                        )\n",
    "                    ) IS NULL\n",
    "                THEN \"yes\"\n",
    "                ELSE \"no\"\n",
    "              END AS \"album_purchase\"\n",
    "      FROM invoice_first_track AS ifs\n",
    "     )\n",
    "GROUP BY album_purchase;"
   ]
  },
  {
   "cell_type": "markdown",
   "metadata": {
    "collapsed": true
   },
   "source": [
    "Last query that we have run shows that album purchases account for about 18.6% of total purchases. Thus, we can recommend purchasing whole albums rather than selected tracks from record companies, otherwise they could lose revenue."
   ]
  }
 ],
 "metadata": {
  "kernelspec": {
   "display_name": "Python 3",
   "language": "python",
   "name": "python3"
  },
  "language_info": {
   "codemirror_mode": {
    "name": "ipython",
    "version": 3
   },
   "file_extension": ".py",
   "mimetype": "text/x-python",
   "name": "python",
   "nbconvert_exporter": "python",
   "pygments_lexer": "ipython3",
   "version": "3.4.3"
  }
 },
 "nbformat": 4,
 "nbformat_minor": 2
}
